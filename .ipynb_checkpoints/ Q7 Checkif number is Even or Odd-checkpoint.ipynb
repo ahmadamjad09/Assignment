{
 "cells": [
  {
   "cell_type": "code",
   "execution_count": null,
   "metadata": {},
   "outputs": [],
   "source": [
    "n = input(\"Enter Number: \")\n",
    "n = int(n)\n",
    "if n%2==0:\n",
    "    print(\"{} is Even\".format(n))\n",
    "else:\n",
    "    print(\"{} is Odd\".format(n))"
   ]
  }
 ],
 "metadata": {
  "kernelspec": {
   "display_name": "Python 3",
   "language": "python",
   "name": "python3"
  },
  "language_info": {
   "codemirror_mode": {
    "name": "ipython",
    "version": 3
   },
   "file_extension": ".py",
   "mimetype": "text/x-python",
   "name": "python",
   "nbconvert_exporter": "python",
   "pygments_lexer": "ipython3",
   "version": "3.7.4"
  }
 },
 "nbformat": 4,
 "nbformat_minor": 2
}
