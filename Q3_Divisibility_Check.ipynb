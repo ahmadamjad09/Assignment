{
 "cells": [
  {
   "cell_type": "code",
   "execution_count": 2,
   "metadata": {},
   "outputs": [
    {
     "name": "stdout",
     "output_type": "stream",
     "text": [
      "Enter Numerator4\n",
      "Enter Denominator2\n",
      "Number 4 is completely divisible by 2\n"
     ]
    }
   ],
   "source": [
    "n = input(\"Enter Numerator\")\n",
    "d = input(\"Enter Denominator\")\n",
    "n = int(n)\n",
    "d = int(d)\n",
    "if n%d == 0:\n",
    "    print(\"Number {} is completely divisible by {}\".format(n,d))\n",
    "else:\n",
    "     print(\"Number {} is not completely divisible by {}\".format(n,d))"
   ]
  },
  {
   "cell_type": "code",
   "execution_count": null,
   "metadata": {},
   "outputs": [],
   "source": []
  }
 ],
 "metadata": {
  "kernelspec": {
   "display_name": "Python 3",
   "language": "python",
   "name": "python3"
  },
  "language_info": {
   "codemirror_mode": {
    "name": "ipython",
    "version": 3
   },
   "file_extension": ".py",
   "mimetype": "text/x-python",
   "name": "python",
   "nbconvert_exporter": "python",
   "pygments_lexer": "ipython3",
   "version": "3.7.4"
  }
 },
 "nbformat": 4,
 "nbformat_minor": 2
}
