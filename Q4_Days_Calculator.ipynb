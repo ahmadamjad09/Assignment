{
 "cells": [
  {
   "cell_type": "code",
   "execution_count": 6,
   "metadata": {},
   "outputs": [
    {
     "name": "stdout",
     "output_type": "stream",
     "text": [
      "Enter a date in (dd/mm/yy) format: 02/02/2019\n",
      "Enter a date in (dd/mm/yy) format: 02/02/2020\n",
      "There are 365 days, 0:00:00 days in between 02/02/2019 and 02/02/2020\n"
     ]
    }
   ],
   "source": [
    "from datetime import date\n",
    "date1 = input(\"Enter a date in (dd/mm/yy) format: \")\n",
    "date2 = input(\"Enter a date in (dd/mm/yy) format: \")\n",
    "d1 = date1.split('/')\n",
    "d2 = date2.split('/')\n",
    "d1 = date(int(d1[2]), int(d1[1]), int(d1[0]))\n",
    "d2 =  date(int(d2[2]), int(d2[1]), int(d2[0]))\n",
    "delta = d2 - d1\n",
    "print(\"There are {} days in between {} and {}\".format(delta,date1,date2))\n"
   ]
  },
  {
   "cell_type": "code",
   "execution_count": null,
   "metadata": {},
   "outputs": [],
   "source": []
  },
  {
   "cell_type": "code",
   "execution_count": null,
   "metadata": {},
   "outputs": [],
   "source": []
  }
 ],
 "metadata": {
  "kernelspec": {
   "display_name": "Python 3",
   "language": "python",
   "name": "python3"
  },
  "language_info": {
   "codemirror_mode": {
    "name": "ipython",
    "version": 3
   },
   "file_extension": ".py",
   "mimetype": "text/x-python",
   "name": "python",
   "nbconvert_exporter": "python",
   "pygments_lexer": "ipython3",
   "version": "3.7.4"
  }
 },
 "nbformat": 4,
 "nbformat_minor": 2
}
