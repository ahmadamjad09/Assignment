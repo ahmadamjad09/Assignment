{
 "cells": [
  {
   "cell_type": "code",
   "execution_count": 1,
   "metadata": {},
   "outputs": [
    {
     "name": "stdout",
     "output_type": "stream",
     "text": [
      "Enter String: hi\n",
      "How many copies of String you need4\n",
      "4 Copies of hihihihihihihihihihihihihihihihi are HiHiHiHi\n"
     ]
    }
   ],
   "source": [
    "st = input(\"Enter String: \")\n",
    "n = input(\"How many copies of String you need\")\n",
    "n = int(n)\n",
    "st = \n",
    "for i in range(n):\n",
    "    st += st\n",
    "print(\"{} Copies of {} are {}\".format(n,st))"
   ]
  },
  {
   "cell_type": "code",
   "execution_count": null,
   "metadata": {},
   "outputs": [],
   "source": []
  }
 ],
 "metadata": {
  "kernelspec": {
   "display_name": "Python 3",
   "language": "python",
   "name": "python3"
  },
  "language_info": {
   "codemirror_mode": {
    "name": "ipython",
    "version": 3
   },
   "file_extension": ".py",
   "mimetype": "text/x-python",
   "name": "python",
   "nbconvert_exporter": "python",
   "pygments_lexer": "ipython3",
   "version": "3.7.4"
  }
 },
 "nbformat": 4,
 "nbformat_minor": 2
}
