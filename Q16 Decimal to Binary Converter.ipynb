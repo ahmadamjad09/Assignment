{
 "cells": [
  {
   "cell_type": "code",
   "execution_count": 5,
   "metadata": {},
   "outputs": [
    {
     "name": "stdout",
     "output_type": "stream",
     "text": [
      "Enter a Decimal Number: 5\n",
      "Binary Representation of 5 is 101\n"
     ]
    }
   ],
   "source": [
    "n = input(\"Enter a Decimal Number: \")\n",
    "n = int(n)\n",
    "nb = bin(n)\n",
    "nbb = \"\"\n",
    "for i in range(2,len(nb),1):\n",
    "    nbb = nbb + nb[i]\n",
    "print(\"Binary Representation of {} is {}\".format(n,nbb))"
   ]
  },
  {
   "cell_type": "code",
   "execution_count": null,
   "metadata": {},
   "outputs": [],
   "source": []
  },
  {
   "cell_type": "code",
   "execution_count": null,
   "metadata": {},
   "outputs": [],
   "source": []
  }
 ],
 "metadata": {
  "kernelspec": {
   "display_name": "Python 3",
   "language": "python",
   "name": "python3"
  },
  "language_info": {
   "codemirror_mode": {
    "name": "ipython",
    "version": 3
   },
   "file_extension": ".py",
   "mimetype": "text/x-python",
   "name": "python",
   "nbconvert_exporter": "python",
   "pygments_lexer": "ipython3",
   "version": "3.7.4"
  }
 },
 "nbformat": 4,
 "nbformat_minor": 2
}
