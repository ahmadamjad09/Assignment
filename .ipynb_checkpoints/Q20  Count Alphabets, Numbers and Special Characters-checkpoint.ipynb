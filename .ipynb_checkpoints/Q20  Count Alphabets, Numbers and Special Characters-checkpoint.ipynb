{
 "cells": [
  {
   "cell_type": "code",
   "execution_count": 2,
   "metadata": {},
   "outputs": [
    {
     "name": "stdout",
     "output_type": "stream",
     "text": [
      "Enter text: Python 3.2\n",
      "Numbers = 2\n",
      "Alphabes = 6\n",
      "Special Character = 1\n",
      "Spaces = 1\n"
     ]
    }
   ],
   "source": [
    "ch = input(\"Enter text: \")\n",
    "a = 0\n",
    "n = 0\n",
    "s = 0\n",
    "sc = 0\n",
    "for i in range(0,len(ch),1):\n",
    "    if (ch[i]>='A' and ch[i]<='Z') or (ch[i]>='a' and ch[i]<='z'):\n",
    "        a = a+1\n",
    "    elif ch[i]>='0' and ch[i]<='9':\n",
    "        n = n+1\n",
    "    elif ch[i]==' ':\n",
    "        s = s+1\n",
    "    else:\n",
    "        sc = sc+1\n",
    "print(\"Numbers = {}\\nAlphabes = {}\\nSpecial Character = {}\\nSpaces = {}\".format(n,a,sc,s))"
   ]
  },
  {
   "cell_type": "code",
   "execution_count": null,
   "metadata": {},
   "outputs": [],
   "source": []
  }
 ],
 "metadata": {
  "kernelspec": {
   "display_name": "Python 3",
   "language": "python",
   "name": "python3"
  },
  "language_info": {
   "codemirror_mode": {
    "name": "ipython",
    "version": 3
   },
   "file_extension": ".py",
   "mimetype": "text/x-python",
   "name": "python",
   "nbconvert_exporter": "python",
   "pygments_lexer": "ipython3",
   "version": "3.7.4"
  }
 },
 "nbformat": 4,
 "nbformat_minor": 2
}
