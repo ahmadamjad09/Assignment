{
 "cells": [
  {
   "cell_type": "code",
   "execution_count": 6,
   "metadata": {},
   "outputs": [
    {
     "name": "stdout",
     "output_type": "stream",
     "text": [
      "Enter text: AHA\n",
      "A\n",
      "AH\n",
      "AHA\n",
      "Text AHA is Palindrome\n"
     ]
    }
   ],
   "source": [
    "text = input(\"Enter text: \")\n",
    "re = \"\"\n",
    "for i in range(len(text)-1,-1,-1):\n",
    "    re = re+text[i]\n",
    "    print(re)\n",
    "if re == text:\n",
    "    print(\"Text {} is Palindrome\".format(text))\n",
    "else:\n",
    "    print(\"Text {} is not Palindrome\".format(text))"
   ]
  },
  {
   "cell_type": "code",
   "execution_count": null,
   "metadata": {},
   "outputs": [],
   "source": []
  }
 ],
 "metadata": {
  "kernelspec": {
   "display_name": "Python 3",
   "language": "python",
   "name": "python3"
  },
  "language_info": {
   "codemirror_mode": {
    "name": "ipython",
    "version": 3
   },
   "file_extension": ".py",
   "mimetype": "text/x-python",
   "name": "python",
   "nbconvert_exporter": "python",
   "pygments_lexer": "ipython3",
   "version": "3.7.4"
  }
 },
 "nbformat": 4,
 "nbformat_minor": 2
}
