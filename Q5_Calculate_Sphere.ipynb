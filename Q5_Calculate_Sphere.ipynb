{
 "cells": [
  {
   "cell_type": "code",
   "execution_count": 10,
   "metadata": {},
   "outputs": [
    {
     "name": "stdout",
     "output_type": "stream",
     "text": [
      "Enter Radius of Sphere1\n",
      "Volume of the Sphere with Radius 1.0 is 12.56\n"
     ]
    }
   ],
   "source": [
    "r = input(\"Enter Radius of Sphere\")\n",
    "r = float(r)\n",
    "volum = 4*3.14*(r*r*r)\n",
    "print(\"Volume of the Sphere with Radius {} is {}\".format(r,volum))"
   ]
  },
  {
   "cell_type": "code",
   "execution_count": null,
   "metadata": {},
   "outputs": [],
   "source": []
  }
 ],
 "metadata": {
  "kernelspec": {
   "display_name": "Python 3",
   "language": "python",
   "name": "python3"
  },
  "language_info": {
   "codemirror_mode": {
    "name": "ipython",
    "version": 3
   },
   "file_extension": ".py",
   "mimetype": "text/x-python",
   "name": "python",
   "nbconvert_exporter": "python",
   "pygments_lexer": "ipython3",
   "version": "3.7.4"
  }
 },
 "nbformat": 4,
 "nbformat_minor": 2
}
