{
 "cells": [
  {
   "cell_type": "code",
   "execution_count": null,
   "metadata": {},
   "outputs": [],
   "source": [
    "amount = input(\"Please enter principal amount: \")\n",
    "amount = float(amount)\n",
    "rate  = input(\"Please Enter Rate of interest in %: \")\n",
    "rate = float(rate)\n",
    "year = input(\"Enter number of years for investment: \")\n",
    "year = int(year)\n",
    "temp = amount\n",
    "for i in range(year):\n",
    "    amount = amount+ (amount*rate)\n",
    "print(\"After {} years your principal amount {} over an interest rate of {} % will be {}\".format(year,a,rate,amount))"
   ]
  },
  {
   "cell_type": "code",
   "execution_count": null,
   "metadata": {},
   "outputs": [],
   "source": []
  }
 ],
 "metadata": {
  "kernelspec": {
   "display_name": "Python 3",
   "language": "python",
   "name": "python3"
  },
  "language_info": {
   "codemirror_mode": {
    "name": "ipython",
    "version": 3
   },
   "file_extension": ".py",
   "mimetype": "text/x-python",
   "name": "python",
   "nbconvert_exporter": "python",
   "pygments_lexer": "ipython3",
   "version": "3.7.4"
  }
 },
 "nbformat": 4,
 "nbformat_minor": 2
}
